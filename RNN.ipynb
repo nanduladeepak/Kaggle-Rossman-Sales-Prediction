{
 "cells": [
  {
   "cell_type": "code",
   "execution_count": 8,
   "metadata": {},
   "outputs": [
    {
     "name": "stdout",
     "output_type": "stream",
     "text": [
      "WARNING:tensorflow:From /Users/deepaknandula/Library/Python/3.9/lib/python/site-packages/tensorflow/python/compat/v2_compat.py:107: disable_resource_variables (from tensorflow.python.ops.variable_scope) is deprecated and will be removed in a future version.\n",
      "Instructions for updating:\n",
      "non-resource variables are not supported in the long term\n"
     ]
    }
   ],
   "source": [
    "import pandas as pd\n",
    "from sklearn import preprocessing\n",
    "import numpy as np\n",
    "import tensorflow as tf\n",
    "tf.compat.v1.disable_v2_behavior()\n",
    "from sklearn.preprocessing import MinMaxScaler\n",
    "from keras.models import Sequential\n",
    "from keras.layers import Dense\n",
    "from keras.layers import LSTM\n",
    "from keras.layers import Dropout\n",
    "import matplotlib.pyplot as plt"
   ]
  },
  {
   "cell_type": "code",
   "execution_count": 9,
   "metadata": {},
   "outputs": [
    {
     "data": {
      "text/html": [
       "<div>\n",
       "<style scoped>\n",
       "    .dataframe tbody tr th:only-of-type {\n",
       "        vertical-align: middle;\n",
       "    }\n",
       "\n",
       "    .dataframe tbody tr th {\n",
       "        vertical-align: top;\n",
       "    }\n",
       "\n",
       "    .dataframe thead th {\n",
       "        text-align: right;\n",
       "    }\n",
       "</style>\n",
       "<table border=\"1\" class=\"dataframe\">\n",
       "  <thead>\n",
       "    <tr style=\"text-align: right;\">\n",
       "      <th></th>\n",
       "      <th>DayOfWeek</th>\n",
       "      <th>Date</th>\n",
       "      <th>Sales</th>\n",
       "      <th>Open</th>\n",
       "      <th>Promo</th>\n",
       "      <th>StateHoliday</th>\n",
       "      <th>SchoolHoliday</th>\n",
       "      <th>Year</th>\n",
       "      <th>Month</th>\n",
       "      <th>Day</th>\n",
       "      <th>Season</th>\n",
       "      <th>StoreType</th>\n",
       "      <th>Assortment</th>\n",
       "      <th>CompetitionDistance</th>\n",
       "      <th>CompetitionOpenSinceYear</th>\n",
       "      <th>Promo2</th>\n",
       "    </tr>\n",
       "  </thead>\n",
       "  <tbody>\n",
       "    <tr>\n",
       "      <th>0</th>\n",
       "      <td>5</td>\n",
       "      <td>2015-07-31</td>\n",
       "      <td>5263</td>\n",
       "      <td>1</td>\n",
       "      <td>1</td>\n",
       "      <td>0</td>\n",
       "      <td>1</td>\n",
       "      <td>2015</td>\n",
       "      <td>7</td>\n",
       "      <td>31</td>\n",
       "      <td>2</td>\n",
       "      <td>2</td>\n",
       "      <td>0</td>\n",
       "      <td>1270.0</td>\n",
       "      <td>2008.0</td>\n",
       "      <td>0</td>\n",
       "    </tr>\n",
       "    <tr>\n",
       "      <th>1</th>\n",
       "      <td>5</td>\n",
       "      <td>2015-07-31</td>\n",
       "      <td>6064</td>\n",
       "      <td>1</td>\n",
       "      <td>1</td>\n",
       "      <td>0</td>\n",
       "      <td>1</td>\n",
       "      <td>2015</td>\n",
       "      <td>7</td>\n",
       "      <td>31</td>\n",
       "      <td>2</td>\n",
       "      <td>0</td>\n",
       "      <td>0</td>\n",
       "      <td>570.0</td>\n",
       "      <td>2007.0</td>\n",
       "      <td>1</td>\n",
       "    </tr>\n",
       "    <tr>\n",
       "      <th>2</th>\n",
       "      <td>5</td>\n",
       "      <td>2015-07-31</td>\n",
       "      <td>8314</td>\n",
       "      <td>1</td>\n",
       "      <td>1</td>\n",
       "      <td>0</td>\n",
       "      <td>1</td>\n",
       "      <td>2015</td>\n",
       "      <td>7</td>\n",
       "      <td>31</td>\n",
       "      <td>2</td>\n",
       "      <td>0</td>\n",
       "      <td>0</td>\n",
       "      <td>14130.0</td>\n",
       "      <td>2006.0</td>\n",
       "      <td>1</td>\n",
       "    </tr>\n",
       "    <tr>\n",
       "      <th>3</th>\n",
       "      <td>5</td>\n",
       "      <td>2015-07-31</td>\n",
       "      <td>13995</td>\n",
       "      <td>1</td>\n",
       "      <td>1</td>\n",
       "      <td>0</td>\n",
       "      <td>1</td>\n",
       "      <td>2015</td>\n",
       "      <td>7</td>\n",
       "      <td>31</td>\n",
       "      <td>2</td>\n",
       "      <td>2</td>\n",
       "      <td>2</td>\n",
       "      <td>620.0</td>\n",
       "      <td>2009.0</td>\n",
       "      <td>0</td>\n",
       "    </tr>\n",
       "    <tr>\n",
       "      <th>4</th>\n",
       "      <td>5</td>\n",
       "      <td>2015-07-31</td>\n",
       "      <td>4822</td>\n",
       "      <td>1</td>\n",
       "      <td>1</td>\n",
       "      <td>0</td>\n",
       "      <td>1</td>\n",
       "      <td>2015</td>\n",
       "      <td>7</td>\n",
       "      <td>31</td>\n",
       "      <td>2</td>\n",
       "      <td>0</td>\n",
       "      <td>0</td>\n",
       "      <td>29910.0</td>\n",
       "      <td>2015.0</td>\n",
       "      <td>0</td>\n",
       "    </tr>\n",
       "  </tbody>\n",
       "</table>\n",
       "</div>"
      ],
      "text/plain": [
       "   DayOfWeek        Date  Sales  Open  Promo  StateHoliday  SchoolHoliday  \\\n",
       "0          5  2015-07-31   5263     1      1             0              1   \n",
       "1          5  2015-07-31   6064     1      1             0              1   \n",
       "2          5  2015-07-31   8314     1      1             0              1   \n",
       "3          5  2015-07-31  13995     1      1             0              1   \n",
       "4          5  2015-07-31   4822     1      1             0              1   \n",
       "\n",
       "   Year  Month  Day  Season  StoreType  Assortment  CompetitionDistance  \\\n",
       "0  2015      7   31       2          2           0               1270.0   \n",
       "1  2015      7   31       2          0           0                570.0   \n",
       "2  2015      7   31       2          0           0              14130.0   \n",
       "3  2015      7   31       2          2           2                620.0   \n",
       "4  2015      7   31       2          0           0              29910.0   \n",
       "\n",
       "   CompetitionOpenSinceYear  Promo2  \n",
       "0                    2008.0       0  \n",
       "1                    2007.0       1  \n",
       "2                    2006.0       1  \n",
       "3                    2009.0       0  \n",
       "4                    2015.0       0  "
      ]
     },
     "execution_count": 9,
     "metadata": {},
     "output_type": "execute_result"
    }
   ],
   "source": [
    "data = pd.read_csv('CorrectDataTraining.csv')\n",
    "data.iloc[:,2:].head()"
   ]
  },
  {
   "cell_type": "code",
   "execution_count": 131,
   "metadata": {},
   "outputs": [],
   "source": [
    "from sklearn.model_selection import train_test_split\n",
    "\n",
    "numeric_cols = ['Store', 'StoreType', 'DayOfWeek', \n",
    "              'Promo', 'StateHoliday', 'Season',\n",
    "              'Assortment','Promo2','Sales']\n",
    "\n",
    "X_train, X_test, y_train, y_test = train_test_split(data[numeric_cols], data['Sales'], test_size=0.2, random_state=1000)\n",
    "X_train, X_val, y_train, y_val = train_test_split(X_train, y_train, test_size=0.1, random_state=1000)"
   ]
  },
  {
   "cell_type": "code",
   "execution_count": 132,
   "metadata": {},
   "outputs": [],
   "source": [
    "X_train_array = X_train.iloc[:,:].values\n",
    "X_test_array =  X_test.iloc[:,:].values\n",
    "y_train_array = y_train.iloc[:].values\n",
    "y_test_array =  y_test.iloc[:].values"
   ]
  },
  {
   "cell_type": "code",
   "execution_count": 133,
   "metadata": {},
   "outputs": [
    {
     "name": "stdout",
     "output_type": "stream",
     "text": [
      "(607923, 8) (607923,) (168868, 8) (168868,)\n",
      "[7.98989937 8.10076824 8.88557929 ... 8.26204284 8.52535975 8.96852356]\n",
      "[8.98306329 8.67008594 8.45914026 ... 8.94884573 8.48073665 8.41272117]\n"
     ]
    }
   ],
   "source": [
    "X_train = []\n",
    "y_train = []\n",
    "X_val = []\n",
    "y_val = []\n",
    "X_test = []\n",
    "y_test = []\n",
    "\n",
    "X_train, y_train = X_train_array[:,:-1], y_train_array[:]\n",
    "X_test, y_test = X_test_array[:,:-1], y_test_array[:]\n",
    "\n",
    "print(X_train.shape, y_train.shape,  X_test.shape, y_test.shape)\n",
    "y_test = np.log(y_test)\n",
    "y_train = np.log(y_train)\n",
    "print(y_test)\n",
    "print(y_train)"
   ]
  },
  {
   "cell_type": "code",
   "execution_count": 127,
   "metadata": {},
   "outputs": [],
   "source": [
    "X_train = X_train.reshape((X_train.shape[0], 1, X_train.shape[1]))\n",
    "X_test = X_test.reshape((X_test.shape[0], 1, X_test.shape[1]))"
   ]
  },
  {
   "cell_type": "code",
   "execution_count": 115,
   "metadata": {},
   "outputs": [
    {
     "ename": "AttributeError",
     "evalue": "'numpy.ndarray' object has no attribute 'head'",
     "output_type": "error",
     "traceback": [
      "\u001b[0;31m---------------------------------------------------------------------------\u001b[0m",
      "\u001b[0;31mAttributeError\u001b[0m                            Traceback (most recent call last)",
      "Cell \u001b[0;32mIn[115], line 1\u001b[0m\n\u001b[0;32m----> 1\u001b[0m y_test\u001b[39m.\u001b[39;49mhead(\u001b[39m10\u001b[39m)\n\u001b[1;32m      2\u001b[0m plt\u001b[39m.\u001b[39mplot(\u001b[39mrange\u001b[39m(\u001b[39m0\u001b[39m,\u001b[39m10\u001b[39m),y_test\u001b[39m.\u001b[39mhead(\u001b[39m10\u001b[39m))\n",
      "\u001b[0;31mAttributeError\u001b[0m: 'numpy.ndarray' object has no attribute 'head'"
     ]
    }
   ],
   "source": [
    "y_test.head(10)\n",
    "plt.plot(range(0,10),y_test.head(10))"
   ]
  },
  {
   "cell_type": "code",
   "execution_count": 116,
   "metadata": {},
   "outputs": [],
   "source": [
    "model = tf.keras.Sequential()\n",
    "\n",
    "# Adding the first LSTM layer and some Dropout regularisation\n",
    "model.add(tf.keras.layers.LSTM(units = 200,return_sequences=True, input_shape = (1,8),activation='relu'))\n",
    "model.add(tf.keras.layers.Dropout(0.2))\n",
    "\n",
    "# Adding a fourth LSTM layer and some Dropout regularisation\n",
    "model.add(tf.keras.layers.LSTM(units = 200,return_sequences=True,activation='relu'))\n",
    "model.add(tf.keras.layers.Dropout(0.2))\n",
    "\n",
    "# model.add(tf.keras.layers.LSTM(units = 100,activation='relu'))\n",
    "# model.add(tf.keras.layers.Dropout(0.2))\n",
    "\n",
    "# Adding the output layer\n",
    "\n",
    "model.add(tf.keras.layers.LSTM(units = 50,activation='relu'))\n",
    "model.add(tf.keras.layers.Dropout(0.2))\n",
    "\n",
    "model.add(tf.keras.layers.Dense(1,activation='relu'))\n",
    "\n",
    "# Compiling the RNN\n",
    "model.compile(optimizer = 'adam', loss = 'mean_squared_error', metrics=[tf.keras.metrics.RootMeanSquaredError(),tf.keras.metrics.Accuracy()])\n"
   ]
  },
  {
   "cell_type": "code",
   "execution_count": 117,
   "metadata": {},
   "outputs": [
    {
     "name": "stdout",
     "output_type": "stream",
     "text": [
      "Train on 607923 samples, validate on 168868 samples\n",
      "Epoch 1/12\n",
      "607904/607923 [============================>.] - ETA: 0s - loss: 0.6600 - root_mean_squared_error: 0.8124 - accuracy: 0.0000e+00"
     ]
    },
    {
     "name": "stderr",
     "output_type": "stream",
     "text": [
      "/Users/deepaknandula/Library/Python/3.9/lib/python/site-packages/keras/engine/training_v1.py:2332: UserWarning: `Model.state_updates` will be removed in a future version. This property should not be used in TensorFlow 2.0, as `updates` are applied automatically.\n",
      "  updates = self.state_updates\n"
     ]
    },
    {
     "name": "stdout",
     "output_type": "stream",
     "text": [
      "607923/607923 [==============================] - 91s 149us/sample - loss: 0.6600 - root_mean_squared_error: 0.8124 - accuracy: 0.0000e+00 - val_loss: 0.1488 - val_root_mean_squared_error: 0.3857 - val_accuracy: 0.0000e+00\n",
      "Epoch 2/12\n",
      "607923/607923 [==============================] - 95s 156us/sample - loss: 0.1699 - root_mean_squared_error: 0.4122 - accuracy: 0.0000e+00 - val_loss: 0.1447 - val_root_mean_squared_error: 0.3804 - val_accuracy: 0.0000e+00\n",
      "Epoch 3/12\n",
      "607923/607923 [==============================] - 91s 149us/sample - loss: 0.1457 - root_mean_squared_error: 0.3817 - accuracy: 1.6449e-06 - val_loss: 0.1433 - val_root_mean_squared_error: 0.3785 - val_accuracy: 0.0000e+00\n",
      "Epoch 4/12\n",
      "607923/607923 [==============================] - 94s 155us/sample - loss: 0.1443 - root_mean_squared_error: 0.3799 - accuracy: 4.9348e-06 - val_loss: 0.1454 - val_root_mean_squared_error: 0.3814 - val_accuracy: 5.9218e-06\n",
      "Epoch 5/12\n",
      "607923/607923 [==============================] - 89s 147us/sample - loss: 0.1448 - root_mean_squared_error: 0.3805 - accuracy: 1.6449e-06 - val_loss: 0.1403 - val_root_mean_squared_error: 0.3746 - val_accuracy: 0.0000e+00\n",
      "Epoch 6/12\n",
      "607923/607923 [==============================] - 95s 156us/sample - loss: 0.1435 - root_mean_squared_error: 0.3788 - accuracy: 1.6449e-06 - val_loss: 0.1403 - val_root_mean_squared_error: 0.3746 - val_accuracy: 0.0000e+00\n",
      "Epoch 7/12\n",
      "607923/607923 [==============================] - 93s 153us/sample - loss: 0.1431 - root_mean_squared_error: 0.3783 - accuracy: 0.0000e+00 - val_loss: 0.1425 - val_root_mean_squared_error: 0.3775 - val_accuracy: 5.9218e-06\n",
      "Epoch 8/12\n",
      "607923/607923 [==============================] - 94s 155us/sample - loss: 0.1426 - root_mean_squared_error: 0.3777 - accuracy: 3.2899e-06 - val_loss: 0.1411 - val_root_mean_squared_error: 0.3757 - val_accuracy: 5.9218e-06\n",
      "Epoch 9/12\n",
      "607923/607923 [==============================] - 89s 146us/sample - loss: 0.1424 - root_mean_squared_error: 0.3774 - accuracy: 0.0000e+00 - val_loss: 0.1422 - val_root_mean_squared_error: 0.3771 - val_accuracy: 0.0000e+00\n",
      "Epoch 10/12\n",
      "607923/607923 [==============================] - 94s 155us/sample - loss: 0.1419 - root_mean_squared_error: 0.3767 - accuracy: 3.2899e-06 - val_loss: 0.1390 - val_root_mean_squared_error: 0.3728 - val_accuracy: 5.9218e-06\n",
      "Epoch 11/12\n",
      "607923/607923 [==============================] - 95s 157us/sample - loss: 0.1417 - root_mean_squared_error: 0.3765 - accuracy: 0.0000e+00 - val_loss: 0.1388 - val_root_mean_squared_error: 0.3725 - val_accuracy: 0.0000e+00\n",
      "Epoch 12/12\n",
      "607923/607923 [==============================] - 97s 159us/sample - loss: 0.1417 - root_mean_squared_error: 0.3765 - accuracy: 1.6449e-06 - val_loss: 0.1441 - val_root_mean_squared_error: 0.3796 - val_accuracy: 0.0000e+00\n"
     ]
    }
   ],
   "source": [
    "\n",
    "# Fitting the RNN to the Training set\n",
    "model.fit(X_train, y_train, epochs = 12,batch_size=512, validation_data = (X_test, y_test))\n",
    "model.save('rnnModel_hd')"
   ]
  },
  {
   "cell_type": "code",
   "execution_count": 128,
   "metadata": {},
   "outputs": [
    {
     "name": "stdout",
     "output_type": "stream",
     "text": [
      "             0\n",
      "0       2951.0\n",
      "1       3297.0\n",
      "2       7227.0\n",
      "3       5478.0\n",
      "4       7235.0\n",
      "...        ...\n",
      "168863  6625.0\n",
      "168864  8280.0\n",
      "168865  3874.0\n",
      "168866  5041.0\n",
      "168867  7852.0\n",
      "\n",
      "[168868 rows x 1 columns]\n"
     ]
    }
   ],
   "source": [
    "result = model.predict(X_test)\n",
    "result_denorm = np.exp(result)\n",
    "y_test_denorm = np.exp(y_test)\n",
    "df = pd.DataFrame(y_test_denorm)\n",
    "\n",
    "\n",
    "# df.columns = [\"Actual Sales\",\"Predicted Sales\"]\n",
    "print(df)"
   ]
  },
  {
   "cell_type": "code",
   "execution_count": 118,
   "metadata": {},
   "outputs": [],
   "source": [
    "model.save('classifier_hd')"
   ]
  },
  {
   "cell_type": "code",
   "execution_count": 35,
   "metadata": {},
   "outputs": [
    {
     "name": "stdout",
     "output_type": "stream",
     "text": [
      "871461     6014\n",
      "201378        0\n",
      "396282        0\n",
      "992113     4065\n",
      "136827    13189\n",
      "696446     5703\n",
      "247555     8051\n",
      "744974     6737\n",
      "537466     8273\n",
      "622024    15321\n",
      "Name: Sales, dtype: int64\n",
      "[[7548], [24], [4], [4827], [9608], [6943], [6634], [7844], [6226], [7606]]\n"
     ]
    }
   ],
   "source": [
    "print(y_test.head(10))\n",
    "print(result[:10])"
   ]
  },
  {
   "cell_type": "code",
   "execution_count": 130,
   "metadata": {},
   "outputs": [
    {
     "data": {
      "image/png": "[encoded data removed]",
      "text/plain": [
       "<Figure size 640x480 with 1 Axes>"
      ]
     },
     "metadata": {},
     "output_type": "display_data"
    }
   ],
   "source": [
    "fig = plt.figure(1)\n",
    "plt.plot(range(0,100), y_test_denorm[:100]) # plot first line\n",
    "plt.plot(range(0,100), result_denorm[:100]) # plot second line\n",
    "plt.show()"
   ]
  }
 ],
 "metadata": {
  "kernelspec": {
   "display_name": "Python 3.9.6 64-bit",
   "language": "python",
   "name": "python3"
  },
  "language_info": {
   "codemirror_mode": {
    "name": "ipython",
    "version": 3
   },
   "file_extension": ".py",
   "mimetype": "text/x-python",
   "name": "python",
   "nbconvert_exporter": "python",
   "pygments_lexer": "ipython3",
   "version": "3.9.6"
  },
  "orig_nbformat": 4,
  "vscode": {
   "interpreter": {
    "hash": "31f2aee4e71d21fbe5cf8b01ff0e069b9275f58929596ceb00d14d90e3e16cd6"
   }
  }
 },
 "nbformat": 4,
 "nbformat_minor": 2
}
